{
  "cells": [
    {
      "cell_type": "markdown",
      "metadata": {},
      "source": [
        "# Exploratory Data Analysis"
      ]
    },
    {
      "cell_type": "code",
      "execution_count": null,
      "metadata": {},
      "outputs": [],
      "source": [
        "import pandas as pd\n",
        "import matplotlib.pyplot as plt\n",
        "import seaborn as sns\n",
        "\n",
        "# Load data\n",
        "data = pd.read_csv('../data/raw/data.csv')\n",
        "\n",
        "# Display basic information\n",
        "data.info()\n",
        "\n",
        "# Display basic statistics\n",
        "data.describe()\n",
        "\n",
        "# Plot distributions of features\n",
        "sns.pairplot(data)\n",
        "plt.show()\n",
        "\n",
        "# ...existing code...\n",
        "# Add more EDA steps here\n",
        "# ...existing code..."
      ]
    }
  ],
  "metadata": {
    "kernelspec": {
      "display_name": "Python 3",
      "language": "python",
      "name": "python3"
    },
    "language_info": {
      "codemirror_mode": {
        "name": "ipython",
        "version": 3
      },
      "file_extension": ".py",
      "mimetype": "text/x-python",
      "name": "python",
      "nbconvert_exporter": "python",
      "pygments_lexer": "ipython3",
      "version": "3.8.5"
    }
  },
  "nbformat": 4,
  "nbformat_minor": 4
}
