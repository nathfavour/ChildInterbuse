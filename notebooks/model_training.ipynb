{
  "cells": [
    {
      "cell_type": "code",
      "execution_count": null,
      "id": "model-training-evaluation",
      "metadata": {},
      "outputs": [],
      "source": [
        "# Model Training and Evaluation\n",
        "\n",
        "import pandas as pd\n",
        "from src.data.load_data import load_data, preprocess_data\n",
        "from src.models.train_model import train_model, save_model\n",
        "from src.utils.metrics import quadratic_weighted_kappa\n",
        "\n",
        "# Load and preprocess data\n",
        "data = load_data('../data/raw/data.csv')\n",
        "data = preprocess_data(data)\n",
        "\n",
        "# Split features and target\n",
        "X = data.drop('target', axis=1)\n",
        "y = data['target']\n",
        "\n",
        "# Train model\n",
        "model = train_model(X, y)\n",
        "\n",
        "# Save model\n",
        "save_model(model, '../models/random_forest_model.pkl')\n",
        "\n",
        "# Evaluate model\n",
        "y_pred = model.predict(X)\n",
        "kappa_score = quadratic_weighted_kappa(y, y_pred)\n",
        "print(f\"Quadratic Weighted Kappa: {kappa_score}\")\n"
      ]
    }
  ],
  "metadata": {
    "kernelspec": {
      "display_name": "Python 3",
      "language": "python",
      "name": "python3"
    },
    "language_info": {
      "codemirror_mode": {
        "name": "ipython",
        "version": 3
      },
      "file_extension": ".py",
      "mimetype": "text/x-python",
      "name": "python",
      "nbconvert_exporter": "python",
      "pygments_lexer": "ipython3",
      "version": "3.8.5"
    }
  },
  "nbformat": 4,
  "nbformat_minor": 5
}
